{
 "cells": [
  {
   "cell_type": "code",
   "execution_count": null,
   "id": "0c2aff87",
   "metadata": {
    "ExecuteTime": {
     "end_time": "2024-03-20T06:57:17.165059Z",
     "start_time": "2024-03-20T06:57:17.161505Z"
    }
   },
   "outputs": [],
   "source": [
    "import os\n",
    "import pickle\n",
    "import langchain\n",
    "from langchain.llms import OpenAI\n",
    "from langchain.chains import RetrievalQAWithSourcesChain\n",
    "from langchain.text_splitter import RecursiveCharacterTextSplitter\n",
    "from langchain.embeddings import OpenAIEmbeddings\n",
    "from langchain.vectorstores import FAISS"
   ]
  },
  {
   "cell_type": "code",
   "execution_count": null,
   "id": "80fc5e57",
   "metadata": {
    "ExecuteTime": {
     "end_time": "2024-03-20T06:57:17.810558Z",
     "start_time": "2024-03-20T06:57:17.807837Z"
    }
   },
   "outputs": [],
   "source": [
    "#load openAI api key\n",
    "os.environ['OPENAI_API_KEY'] = \"YOUR_API_KEY\""
   ]
  },
  {
   "cell_type": "code",
   "execution_count": null,
   "id": "39e721c4",
   "metadata": {
    "ExecuteTime": {
     "end_time": "2024-03-20T06:59:05.306886Z",
     "start_time": "2024-03-20T06:59:05.304253Z"
    }
   },
   "outputs": [],
   "source": [
    "llm = OpenAI(model=\"gpt-3.5-turbo-instruct\",temperature=0.9,max_tokens=500)"
   ]
  },
  {
   "cell_type": "markdown",
   "id": "bd0c3ff7",
   "metadata": {},
   "source": [
    "### (1) Load data"
   ]
  },
  {
   "cell_type": "code",
   "execution_count": null,
   "id": "55fa0ef5",
   "metadata": {
    "ExecuteTime": {
     "end_time": "2024-03-20T06:56:14.662732Z",
     "start_time": "2024-03-20T06:55:41.849259Z"
    }
   },
   "outputs": [],
   "source": [
    "from langchain.document_loaders import SeleniumURLLoader\n",
    "loaders = SeleniumURLLoader (urls=[\n",
    "    \"https://www.moneycontrol.com/news/business/markets/wall-street-rises-as-tesla-soars-on-ai-optimism-11351111.html\",\n",
    "    \"https://www.moneycontrol.com/news/business/tata-motors-launches-punch-icng-price-starts-at-rs-7-1-lakh-11098751.html\"\n",
    "])\n",
    "data = loaders.load() \n",
    "len(data)"
   ]
  },
  {
   "cell_type": "markdown",
   "id": "9f51a5bd",
   "metadata": {},
   "source": [
    "### (2) Split data to create chunks"
   ]
  },
  {
   "cell_type": "code",
   "execution_count": null,
   "id": "054a6361",
   "metadata": {
    "ExecuteTime": {
     "end_time": "2024-03-20T06:56:17.837290Z",
     "start_time": "2024-03-20T06:56:17.832583Z"
    }
   },
   "outputs": [],
   "source": [
    "text_splitter = RecursiveCharacterTextSplitter(\n",
    "    chunk_size=1000,\n",
    "    chunk_overlap=200\n",
    ")\n",
    "\n",
    "# As data is of type documents we can directly use split_documents over split_text in order to get the chunks.\n",
    "docs = text_splitter.split_documents(data)"
   ]
  },
  {
   "cell_type": "code",
   "execution_count": null,
   "id": "379e3d94",
   "metadata": {
    "ExecuteTime": {
     "end_time": "2024-03-20T06:56:18.364713Z",
     "start_time": "2024-03-20T06:56:18.361277Z"
    }
   },
   "outputs": [],
   "source": [
    "len(docs)"
   ]
  },
  {
   "cell_type": "code",
   "execution_count": null,
   "id": "637ee7ae",
   "metadata": {
    "ExecuteTime": {
     "end_time": "2024-03-20T06:56:18.902105Z",
     "start_time": "2024-03-20T06:56:18.898729Z"
    },
    "scrolled": true
   },
   "outputs": [],
   "source": [
    "docs[0]"
   ]
  },
  {
   "cell_type": "markdown",
   "id": "9e35a876",
   "metadata": {},
   "source": [
    "### (3) Create embeddings for these chunks and save them to FAISS index"
   ]
  },
  {
   "cell_type": "code",
   "execution_count": null,
   "id": "c3d0a6dd",
   "metadata": {
    "ExecuteTime": {
     "end_time": "2024-03-20T06:56:21.366393Z",
     "start_time": "2024-03-20T06:56:19.873409Z"
    }
   },
   "outputs": [],
   "source": [
    "# Create the embeddings of the chunks using openAIEmbeddings\n",
    "embeddings = OpenAIEmbeddings()\n",
    "\n",
    "# Pass the documents and embeddings inorder to create FAISS vector index\n",
    "vectorindex_openai = FAISS.from_documents(docs, embeddings)"
   ]
  },
  {
   "cell_type": "code",
   "execution_count": null,
   "id": "a9686c13",
   "metadata": {
    "ExecuteTime": {
     "end_time": "2024-03-20T06:56:21.371064Z",
     "start_time": "2024-03-20T06:56:21.367392Z"
    }
   },
   "outputs": [],
   "source": [
    "# Storing vector index create in local\n",
    "file_path=\"vector_index.pkl\"\n",
    "with open(file_path, \"wb\") as f:\n",
    "    pickle.dump(vectorindex_openai, f)"
   ]
  },
  {
   "cell_type": "code",
   "execution_count": null,
   "id": "688dc29b",
   "metadata": {
    "ExecuteTime": {
     "end_time": "2024-03-20T06:56:22.003692Z",
     "start_time": "2024-03-20T06:56:22.000200Z"
    }
   },
   "outputs": [],
   "source": [
    "if os.path.exists(file_path):\n",
    "    with open(file_path, \"rb\") as f:\n",
    "        vectorIndex = pickle.load(f)"
   ]
  },
  {
   "cell_type": "markdown",
   "id": "fbd96296",
   "metadata": {},
   "source": [
    "### (4) Retrieve similar embeddings for a given question and call LLM to retrieve final answer"
   ]
  },
  {
   "cell_type": "code",
   "execution_count": null,
   "id": "01f5e1e8",
   "metadata": {
    "ExecuteTime": {
     "end_time": "2024-03-20T06:59:09.564981Z",
     "start_time": "2024-03-20T06:59:09.560478Z"
    }
   },
   "outputs": [],
   "source": [
    "chain = RetrievalQAWithSourcesChain.from_llm(llm=llm, retriever=vectorIndex.as_retriever())\n",
    "chain"
   ]
  },
  {
   "cell_type": "code",
   "execution_count": null,
   "id": "be656da6",
   "metadata": {
    "ExecuteTime": {
     "end_time": "2024-03-20T06:56:23.819509Z",
     "start_time": "2024-03-20T06:56:23.816526Z"
    }
   },
   "outputs": [],
   "source": [
    "# from langchain_community.document_loaders.recursive_url_loader import RecursiveUrlLoader\n",
    "# from bs4 import BeautifulSoup as Soup\n",
    "# urls=[ \"https://www.moneycontrol.com/news/business/markets/wall-street-rises-as-tesla-soars-on-ai-optimism-11351111.html\",\n",
    "#     \"https://www.moneycontrol.com/news/business/tata-motors-launches-punch-icng-price-starts-at-rs-7-1-lakh-11098751.html\"]\n",
    "# for url in urls:\n",
    "#     loader = RecursiveUrlLoader(\n",
    "#         url=url,max_depth=2, extractor=lambda x: Soup(x, \"html.parser\").text\n",
    "#     )\n",
    "#     docs = loader.load()"
   ]
  },
  {
   "cell_type": "code",
   "execution_count": null,
   "id": "8c2e228b",
   "metadata": {
    "ExecuteTime": {
     "end_time": "2024-03-20T06:59:14.505163Z",
     "start_time": "2024-03-20T06:59:11.991454Z"
    },
    "scrolled": false
   },
   "outputs": [],
   "source": [
    "query = \"what is the price of Tiago iCNG?\"\n",
    "# query = \"what are the main features of punch iCNG?\"\n",
    "\n",
    "langchain.debug=True\n",
    "\n",
    "chain({\"question\": query}, return_only_outputs=True)"
   ]
  },
  {
   "cell_type": "code",
   "execution_count": null,
   "id": "159787687a5e6dd4",
   "metadata": {
    "collapsed": false
   },
   "outputs": [],
   "source": []
  }
 ],
 "metadata": {
  "kernelspec": {
   "display_name": "Python 3 (ipykernel)",
   "language": "python",
   "name": "python3"
  },
  "language_info": {
   "codemirror_mode": {
    "name": "ipython",
    "version": 3
   },
   "file_extension": ".py",
   "mimetype": "text/x-python",
   "name": "python",
   "nbconvert_exporter": "python",
   "pygments_lexer": "ipython3",
   "version": "3.11.8"
  }
 },
 "nbformat": 4,
 "nbformat_minor": 5
}
