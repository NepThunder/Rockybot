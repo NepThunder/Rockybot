{
 "cells": [
  {
   "cell_type": "code",
   "execution_count": 5,
   "metadata": {
    "ExecuteTime": {
     "end_time": "2024-03-20T06:41:30.898834Z",
     "start_time": "2024-03-20T06:41:24.361005Z"
    }
   },
   "outputs": [
    {
     "name": "stderr",
     "output_type": "stream",
     "text": [
      "\n",
      "[notice] A new release of pip is available: 23.2.1 -> 24.0\n",
      "[notice] To update, run: python.exe -m pip install --upgrade pip\n"
     ]
    },
    {
     "name": "stdout",
     "output_type": "stream",
     "text": [
      "Collecting selenium\n",
      "  Obtaining dependency information for selenium from https://files.pythonhosted.org/packages/3f/fd/c2e7bb547b5b96c7bd536b4a80c4564b7ce5cd38d10095fbba8648996ab9/selenium-4.18.1-py3-none-any.whl.metadata\n",
      "  Downloading selenium-4.18.1-py3-none-any.whl.metadata (6.9 kB)\n",
      "Requirement already satisfied: urllib3[socks]<3,>=1.26 in c:\\users\\tekch\\onedrive\\desktop\\langchain\\2_news_research_tool_project\\venv\\lib\\site-packages (from selenium) (2.2.1)\n",
      "Collecting trio~=0.17 (from selenium)\n",
      "  Obtaining dependency information for trio~=0.17 from https://files.pythonhosted.org/packages/17/c9/f86f89f14d52f9f2f652ce24cb2f60141a51d087db1563f3fba94ba07346/trio-0.25.0-py3-none-any.whl.metadata\n",
      "  Downloading trio-0.25.0-py3-none-any.whl.metadata (8.7 kB)\n",
      "Collecting trio-websocket~=0.9 (from selenium)\n",
      "  Obtaining dependency information for trio-websocket~=0.9 from https://files.pythonhosted.org/packages/48/be/a9ae5f50cad5b6f85bd2574c2c923730098530096e170c1ce7452394d7aa/trio_websocket-0.11.1-py3-none-any.whl.metadata\n",
      "  Downloading trio_websocket-0.11.1-py3-none-any.whl.metadata (4.7 kB)\n",
      "Requirement already satisfied: certifi>=2021.10.8 in c:\\users\\tekch\\onedrive\\desktop\\langchain\\2_news_research_tool_project\\venv\\lib\\site-packages (from selenium) (2024.2.2)\n",
      "Requirement already satisfied: typing_extensions>=4.9.0 in c:\\users\\tekch\\onedrive\\desktop\\langchain\\2_news_research_tool_project\\venv\\lib\\site-packages (from selenium) (4.10.0)\n",
      "Requirement already satisfied: attrs>=23.2.0 in c:\\users\\tekch\\onedrive\\desktop\\langchain\\2_news_research_tool_project\\venv\\lib\\site-packages (from trio~=0.17->selenium) (23.2.0)\n",
      "Collecting sortedcontainers (from trio~=0.17->selenium)\n",
      "  Obtaining dependency information for sortedcontainers from https://files.pythonhosted.org/packages/32/46/9cb0e58b2deb7f82b84065f37f3bffeb12413f947f9388e4cac22c4621ce/sortedcontainers-2.4.0-py2.py3-none-any.whl.metadata\n",
      "  Downloading sortedcontainers-2.4.0-py2.py3-none-any.whl.metadata (10 kB)\n",
      "Requirement already satisfied: idna in c:\\users\\tekch\\onedrive\\desktop\\langchain\\2_news_research_tool_project\\venv\\lib\\site-packages (from trio~=0.17->selenium) (3.6)\n",
      "Collecting outcome (from trio~=0.17->selenium)\n",
      "  Obtaining dependency information for outcome from https://files.pythonhosted.org/packages/55/8b/5ab7257531a5d830fc8000c476e63c935488d74609b50f9384a643ec0a62/outcome-1.3.0.post0-py2.py3-none-any.whl.metadata\n",
      "  Downloading outcome-1.3.0.post0-py2.py3-none-any.whl.metadata (2.6 kB)\n",
      "Requirement already satisfied: sniffio>=1.3.0 in c:\\users\\tekch\\onedrive\\desktop\\langchain\\2_news_research_tool_project\\venv\\lib\\site-packages (from trio~=0.17->selenium) (1.3.1)\n",
      "Requirement already satisfied: cffi>=1.14 in c:\\users\\tekch\\onedrive\\desktop\\langchain\\2_news_research_tool_project\\venv\\lib\\site-packages (from trio~=0.17->selenium) (1.16.0)\n",
      "Collecting wsproto>=0.14 (from trio-websocket~=0.9->selenium)\n",
      "  Obtaining dependency information for wsproto>=0.14 from https://files.pythonhosted.org/packages/78/58/e860788190eba3bcce367f74d29c4675466ce8dddfba85f7827588416f01/wsproto-1.2.0-py3-none-any.whl.metadata\n",
      "  Downloading wsproto-1.2.0-py3-none-any.whl.metadata (5.6 kB)\n",
      "Collecting pysocks!=1.5.7,<2.0,>=1.5.6 (from urllib3[socks]<3,>=1.26->selenium)\n",
      "  Obtaining dependency information for pysocks!=1.5.7,<2.0,>=1.5.6 from https://files.pythonhosted.org/packages/8d/59/b4572118e098ac8e46e399a1dd0f2d85403ce8bbaad9ec79373ed6badaf9/PySocks-1.7.1-py3-none-any.whl.metadata\n",
      "  Downloading PySocks-1.7.1-py3-none-any.whl.metadata (13 kB)\n",
      "Requirement already satisfied: pycparser in c:\\users\\tekch\\onedrive\\desktop\\langchain\\2_news_research_tool_project\\venv\\lib\\site-packages (from cffi>=1.14->trio~=0.17->selenium) (2.21)\n",
      "Requirement already satisfied: h11<1,>=0.9.0 in c:\\users\\tekch\\onedrive\\desktop\\langchain\\2_news_research_tool_project\\venv\\lib\\site-packages (from wsproto>=0.14->trio-websocket~=0.9->selenium) (0.14.0)\n",
      "Downloading selenium-4.18.1-py3-none-any.whl (10.0 MB)\n",
      "   ---------------------------------------- 0.0/10.0 MB ? eta -:--:--\n",
      "   - -------------------------------------- 0.3/10.0 MB 5.4 MB/s eta 0:00:02\n",
      "   -- ------------------------------------- 0.6/10.0 MB 7.1 MB/s eta 0:00:02\n",
      "   --- ------------------------------------ 0.9/10.0 MB 7.2 MB/s eta 0:00:02\n",
      "   ---- ----------------------------------- 1.2/10.0 MB 7.1 MB/s eta 0:00:02\n",
      "   ----- ---------------------------------- 1.5/10.0 MB 6.2 MB/s eta 0:00:02\n",
      "   ------- -------------------------------- 1.8/10.0 MB 6.5 MB/s eta 0:00:02\n",
      "   -------- ------------------------------- 2.0/10.0 MB 6.5 MB/s eta 0:00:02\n",
      "   --------- ------------------------------ 2.3/10.0 MB 6.3 MB/s eta 0:00:02\n",
      "   ---------- ----------------------------- 2.7/10.0 MB 6.6 MB/s eta 0:00:02\n",
      "   ------------ --------------------------- 3.0/10.0 MB 6.6 MB/s eta 0:00:02\n",
      "   ------------- -------------------------- 3.4/10.0 MB 6.8 MB/s eta 0:00:01\n",
      "   --------------- ------------------------ 3.8/10.0 MB 6.9 MB/s eta 0:00:01\n",
      "   ---------------- ----------------------- 4.1/10.0 MB 6.9 MB/s eta 0:00:01\n",
      "   ----------------- ---------------------- 4.5/10.0 MB 6.9 MB/s eta 0:00:01\n",
      "   ------------------- -------------------- 4.9/10.0 MB 7.1 MB/s eta 0:00:01\n",
      "   --------------------- ------------------ 5.4/10.0 MB 7.3 MB/s eta 0:00:01\n",
      "   ---------------------- ----------------- 5.7/10.0 MB 7.3 MB/s eta 0:00:01\n",
      "   ------------------------ --------------- 6.1/10.0 MB 7.4 MB/s eta 0:00:01\n",
      "   ------------------------- -------------- 6.4/10.0 MB 7.3 MB/s eta 0:00:01\n",
      "   --------------------------- ------------ 6.9/10.0 MB 7.4 MB/s eta 0:00:01\n",
      "   ----------------------------- ---------- 7.4/10.0 MB 7.6 MB/s eta 0:00:01\n",
      "   ------------------------------- -------- 7.9/10.0 MB 7.8 MB/s eta 0:00:01\n",
      "   --------------------------------- ------ 8.3/10.0 MB 7.9 MB/s eta 0:00:01\n",
      "   ----------------------------------- ---- 8.9/10.0 MB 8.1 MB/s eta 0:00:01\n",
      "   ------------------------------------ --- 9.2/10.0 MB 8.0 MB/s eta 0:00:01\n",
      "   -------------------------------------- - 9.6/10.0 MB 8.0 MB/s eta 0:00:01\n",
      "   ---------------------------------------  10.0/10.0 MB 8.1 MB/s eta 0:00:01\n",
      "   ---------------------------------------- 10.0/10.0 MB 7.9 MB/s eta 0:00:00\n",
      "Downloading trio-0.25.0-py3-none-any.whl (467 kB)\n",
      "   ---------------------------------------- 0.0/467.2 kB ? eta -:--:--\n",
      "   ---------------------------------- ---- 409.6/467.2 kB 12.5 MB/s eta 0:00:01\n",
      "   --------------------------------------- 467.2/467.2 kB 14.3 MB/s eta 0:00:00\n",
      "Downloading trio_websocket-0.11.1-py3-none-any.whl (17 kB)\n",
      "Downloading PySocks-1.7.1-py3-none-any.whl (16 kB)\n",
      "Downloading wsproto-1.2.0-py3-none-any.whl (24 kB)\n",
      "Downloading outcome-1.3.0.post0-py2.py3-none-any.whl (10 kB)\n",
      "Downloading sortedcontainers-2.4.0-py2.py3-none-any.whl (29 kB)\n",
      "Installing collected packages: sortedcontainers, wsproto, pysocks, outcome, trio, trio-websocket, selenium\n",
      "Successfully installed outcome-1.3.0.post0 pysocks-1.7.1 selenium-4.18.1 sortedcontainers-2.4.0 trio-0.25.0 trio-websocket-0.11.1 wsproto-1.2.0\n",
      "Note: you may need to restart the kernel to use updated packages.\n"
     ]
    },
    {
     "name": "stderr",
     "output_type": "stream",
     "text": [
      "libmagic is unavailable but assists in filetype detection on file-like objects. Please consider installing libmagic for better results.\n",
      "Error fetching or processing https://www.moneycontrol.com/news/business/markets/wall-street-rises-as-tesla-soars-on-ai-optimism-11351111.html, exception: Invalid file. The FileType.UNK file type is not supported in partition.\n",
      "libmagic is unavailable but assists in filetype detection on file-like objects. Please consider installing libmagic for better results.\n",
      "Error fetching or processing https://www.moneycontrol.com/news/business/tata-motors-launches-punch-icng-price-starts-at-rs-7-1-lakh-11098751.html, exception: Invalid file. The FileType.UNK file type is not supported in partition.\n"
     ]
    },
    {
     "data": {
      "text/plain": "0"
     },
     "execution_count": 5,
     "metadata": {},
     "output_type": "execute_result"
    }
   ],
   "source": [
    "# %pip install unstructured\n",
    "# %pip install python-magic python-magic-bin\n",
    "# %pip install python-magic\n",
    "# %pip install libmagic\n",
    "# %pip install python-magic-bin\n",
    "%pip install selenium\n",
    "from langchain.document_loaders import UnstructuredURLLoader\n",
    "# \n",
    "loaders = UnstructuredURLLoader(urls=[\n",
    "    \"https://www.moneycontrol.com/news/business/markets/wall-street-rises-as-tesla-soars-on-ai-optimism-11351111.html\",\n",
    "    \"https://www.moneycontrol.com/news/business/tata-motors-launches-punch-icng-price-starts-at-rs-7-1-lakh-11098751.html\"\n",
    "])\n",
    "data = loaders.load() \n",
    "len(data)\n"
   ]
  },
  {
   "cell_type": "code",
   "outputs": [
    {
     "name": "stdout",
     "output_type": "stream",
     "text": [
      "^C\n",
      "Requirement already satisfied: python-magic-bin==0.4.14 in c:\\users\\tekch\\onedrive\\desktop\\langchain\\2_news_research_tool_project\\venv\\lib\\site-packages (0.4.14)\n"
     ]
    },
    {
     "name": "stderr",
     "output_type": "stream",
     "text": [
      "\n",
      "[notice] A new release of pip is available: 23.2.1 -> 24.0\n",
      "[notice] To update, run: python.exe -m pip install --upgrade pip\n"
     ]
    }
   ],
   "source": [
    "# !pip uninstall python-magic\n",
    "# !pip install python-magic-bin==0.4.14"
   ],
   "metadata": {
    "collapsed": false,
    "ExecuteTime": {
     "end_time": "2024-03-20T06:41:24.359912Z",
     "start_time": "2024-03-20T06:26:00.422781Z"
    }
   },
   "execution_count": 4
  },
  {
   "cell_type": "code",
   "outputs": [],
   "source": [],
   "metadata": {
    "collapsed": false
   }
  }
 ],
 "metadata": {
  "kernelspec": {
   "display_name": "Python 3",
   "language": "python",
   "name": "python3"
  },
  "language_info": {
   "codemirror_mode": {
    "name": "ipython",
    "version": 3
   },
   "file_extension": ".py",
   "mimetype": "text/x-python",
   "name": "python",
   "nbconvert_exporter": "python",
   "pygments_lexer": "ipython3",
   "version": "3.11.8"
  }
 },
 "nbformat": 4,
 "nbformat_minor": 2
}
